{
  "nbformat": 4,
  "nbformat_minor": 0,
  "metadata": {
    "colab": {
      "name": "Nested JSON.ipynb",
      "provenance": [],
      "collapsed_sections": [],
      "authorship_tag": "ABX9TyOfO/p0bcAfb+GWSO8PTEoM",
      "include_colab_link": true
    },
    "kernelspec": {
      "name": "python3",
      "display_name": "Python 3"
    },
    "language_info": {
      "name": "python"
    }
  },
  "cells": [
    {
      "cell_type": "markdown",
      "metadata": {
        "id": "view-in-github",
        "colab_type": "text"
      },
      "source": [
        "<a href=\"https://colab.research.google.com/github/soujanya-vattikolla/Nested-JSON-Parsing/blob/main/NestedJSON.ipynb\" target=\"_parent\"><img src=\"https://colab.research.google.com/assets/colab-badge.svg\" alt=\"Open In Colab\"/></a>"
      ]
    },
    {
      "cell_type": "markdown",
      "source": [
        "Extract Nested Data From Complex JSON"
      ],
      "metadata": {
        "id": "USPZ3b19kKtH"
      }
    },
    {
      "cell_type": "markdown",
      "source": [
        "Using Google Maps API as an Example: <br>\n",
        "\n",
        "Google Maps is actually a collection of APIs, the Google Maps Distance Matrix. With a single API call, a user can calculate the distance and time traveled between an origin and an infinite number of destinations."
      ],
      "metadata": {
        "id": "usbIyXVM2fG-"
      }
    },
    {
      "cell_type": "code",
      "source": [
        "# main.py\n",
        "#  Here's an example of the types of parameters this request accepts:\n",
        "\n",
        "\"\"\"Fetch and extract JSON data from Google Maps.\"\"\"\n",
        "import requests\n",
        "from config import API_KEY\n",
        "\n",
        "def google_maps_distance():\n",
        "    \"\"\"Fetch distance between two points.\"\"\"\n",
        "    endpoint = \"https://maps.googleapis.com/maps/api/distancematrix/json\"\n",
        "    params = {\n",
        "       'units': 'imperial',\n",
        "       'key': API_KEY,\n",
        "       'origins': 'New York City, NY',\n",
        "       'destinations': 'Philadelphia,PA',\n",
        "       'transit_mode': 'car'\n",
        "    }\n",
        "    r = requests.get(endpoint, params=params)\n",
        "    return r.json"
      ],
      "metadata": {
        "id": "PYNYsC0ZxCz8"
      },
      "execution_count": null,
      "outputs": []
    },
    {
      "cell_type": "code",
      "source": [
        "# One origin, one destination. The JSON response for a request this straightforward is quite simple:\n",
        "\n",
        "{\n",
        "  \"destination_addresses\": [\n",
        "    \"Philadelphia, PA, USA\"\n",
        "  ],\n",
        "  \"origin_addresses\": [\n",
        "    \"New York, NY, USA\"\n",
        "  ],\n",
        "  \"rows\": [{\n",
        "    \"elements\": [{\n",
        "      \"distance\": {\n",
        "        \"text\": \"94.6 mi\",\n",
        "        \"value\": 152193\n",
        "      },\n",
        "      \"duration\": {\n",
        "        \"text\": \"1 hour 44 mins\",\n",
        "        \"value\": 6227\n",
        "      },\n",
        "      \"status\": \"OK\"\n",
        "    }]\n",
        "  }],\n",
        "  \"status\": \"OK\"\n",
        "}"
      ],
      "metadata": {
        "id": "i1KtzAAK4T4F"
      },
      "execution_count": null,
      "outputs": []
    },
    {
      "cell_type": "markdown",
      "source": [
        "* For each destination, we're getting two data points: \n",
        "    * the commute distance, and estimated duration."
      ],
      "metadata": {
        "id": "aBvwWrds4g2O"
      }
    },
    {
      "cell_type": "code",
      "source": [
        "# main.py\n",
        "# Now add a few more stops on our trip:\n",
        "\n",
        "def google_maps_distance():\n",
        "    \"\"\"Fetch distance between two points.\"\"\"\n",
        "    endpoint = \"https://maps.googleapis.com/maps/api/distancematrix/json\"\n",
        "    params = {\n",
        "       'units': 'imperial',\n",
        "       'key': API_KEY,\n",
        "       'origins': 'New York City, NY',\n",
        "       'destinations': 'Washington,DC|Philadelphia,PA|Santa Barbara,CA|Miami,FL|Austin,TX|Napa County,CA',\n",
        "       'transit_mode': 'car'\n",
        "    }\n",
        "    r = requests.get(endpoint, params=params)\n",
        "    return r.json()"
      ],
      "metadata": {
        "id": "NOr6cOYa4Y4X"
      },
      "execution_count": null,
      "outputs": []
    },
    {
      "cell_type": "code",
      "source": [
        "# Output of google_maps_distance()\n",
        "\n",
        "{\n",
        "  \"destination_addresses\": [\n",
        "    \"Washington, DC, USA\",\n",
        "    \"Philadelphia, PA, USA\",\n",
        "    \"Santa Barbara, CA, USA\",\n",
        "    \"Miami, FL, USA\",\n",
        "    \"Austin, TX, USA\",\n",
        "    \"Napa County, CA, USA\"\n",
        "  ],\n",
        "  \"origin_addresses\": [\n",
        "    \"New York, NY, USA\"\n",
        "  ],\n",
        "  \"rows\": [{\n",
        "    \"elements\": [{\n",
        "        \"distance\": {\n",
        "          \"text\": \"227 mi\",\n",
        "          \"value\": 365468\n",
        "        },\n",
        "        \"duration\": {\n",
        "          \"text\": \"3 hours 54 mins\",\n",
        "          \"value\": 14064\n",
        "        },\n",
        "        \"status\": \"OK\"\n",
        "      },\n",
        "      {\n",
        "        \"distance\": {\n",
        "          \"text\": \"94.6 mi\",\n",
        "          \"value\": 152193\n",
        "        },\n",
        "        \"duration\": {\n",
        "          \"text\": \"1 hour 44 mins\",\n",
        "          \"value\": 6227\n",
        "        },\n",
        "        \"status\": \"OK\"\n",
        "      },\n",
        "      {\n",
        "        \"distance\": {\n",
        "          \"text\": \"2,878 mi\",\n",
        "          \"value\": 4632197\n",
        "        },\n",
        "        \"duration\": {\n",
        "          \"text\": \"1 day 18 hours\",\n",
        "          \"value\": 151772\n",
        "        },\n",
        "        \"status\": \"OK\"\n",
        "      },\n",
        "      {\n",
        "        \"distance\": {\n",
        "          \"text\": \"1,286 mi\",\n",
        "          \"value\": 2069031\n",
        "        },\n",
        "        \"duration\": {\n",
        "          \"text\": \"18 hours 43 mins\",\n",
        "          \"value\": 67405\n",
        "        },\n",
        "        \"status\": \"OK\"\n",
        "      },\n",
        "      {\n",
        "        \"distance\": {\n",
        "          \"text\": \"1,742 mi\",\n",
        "          \"value\": 2802972\n",
        "        },\n",
        "        \"duration\": {\n",
        "          \"text\": \"1 day 2 hours\",\n",
        "          \"value\": 93070\n",
        "        },\n",
        "        \"status\": \"OK\"\n",
        "      },\n",
        "      {\n",
        "        \"distance\": {\n",
        "          \"text\": \"2,871 mi\",\n",
        "          \"value\": 4620514\n",
        "        },\n",
        "        \"duration\": {\n",
        "          \"text\": \"1 day 18 hours\",\n",
        "          \"value\": 152913\n",
        "        },\n",
        "        \"status\": \"OK\"\n",
        "      }\n",
        "    ]\n",
        "  }],\n",
        "  \"status\": \"OK\"\n",
        "}"
      ],
      "metadata": {
        "id": "6J66Xcs74x7V"
      },
      "execution_count": null,
      "outputs": []
    },
    {
      "cell_type": "markdown",
      "source": [
        "There are objects and listsn and there are lists of objects which are part of an object."
      ],
      "metadata": {
        "id": "BLoy5lUQ45bQ"
      }
    },
    {
      "cell_type": "markdown",
      "source": [
        "The json_extract() can be imported as a module into any project if we need."
      ],
      "metadata": {
        "id": "GgC_Mvjw6C14"
      }
    },
    {
      "cell_type": "code",
      "source": [
        "# extract.py\n",
        "\n",
        "\"\"\"Extract nested values from a JSON tree.\"\"\"\n",
        "\n",
        "\n",
        "def json_extract(obj, key):\n",
        "    \"\"\"Recursively fetch values from nested JSON.\"\"\"\n",
        "    arr = []\n",
        "\n",
        "    def extract(obj, arr, key):\n",
        "        \"\"\"Recursively search for values of key in JSON tree.\"\"\"\n",
        "        if isinstance(obj, dict):\n",
        "            for k, v in obj.items():\n",
        "                if isinstance(v, (dict, list)):\n",
        "                    extract(v, arr, key)\n",
        "                elif k == key:\n",
        "                    arr.append(v)\n",
        "        elif isinstance(obj, list):\n",
        "            for item in obj:\n",
        "                extract(item, arr, key)\n",
        "        return arr\n",
        "\n",
        "    values = extract(obj, arr, key)\n",
        "    return values"
      ],
      "metadata": {
        "id": "VSIn0oMH6gnl"
      },
      "execution_count": null,
      "outputs": []
    },
    {
      "cell_type": "code",
      "source": [
        "# Output of json_extract()\n",
        "from extract import json_extract\n",
        "\n",
        "# Find every instance of `name` in a Python dictionary.\n",
        "names = json_extract(r.json(), 'name')\n",
        "print(names)"
      ],
      "metadata": {
        "id": "Id0w1kFW6zy2"
      },
      "execution_count": null,
      "outputs": []
    },
    {
      "cell_type": "markdown",
      "source": [
        "Regardless of where the key \"text\" lives in the JSON, this function returns every value for the instance of \"key.\" Here's the function:"
      ],
      "metadata": {
        "id": "du4UZ4kt7Ij-"
      }
    },
    {
      "cell_type": "code",
      "source": [
        "# main.py\n",
        "from extract import json_extract\n",
        "\n",
        "\n",
        "def google_maps_distance():\n",
        "    \"\"\"Fetch distance between two points.\"\"\"\n",
        "    endpoint = \"https://maps.googleapis.com/maps/api/distancematrix/json\"\n",
        "    params = {\n",
        "       'units': 'imperial',\n",
        "       'key': API_KEY,\n",
        "       'origins': \"New York City,NY\",\n",
        "       'destinations': \"Washington,DC|Philadelphia,PA|Santa Barbara,CA|Miami,FL|Austin,TX|Napa Valley,CA\",\n",
        "       'transit_mode': 'car',\n",
        "    }\n",
        "   r = requests.get(endpoint, params=params)\n",
        "   travel_values = json_extract(r.json(), 'text')\n",
        "   return travel_values"
      ],
      "metadata": {
        "id": "u66Ib5wt7FLu"
      },
      "execution_count": null,
      "outputs": []
    },
    {
      "cell_type": "code",
      "source": [
        "# Output of google_maps_distance()\n",
        "['227 mi',\n",
        " '3 hours 54 mins',\n",
        " '94.6 mi',\n",
        " '1 hour 44 mins',\n",
        " '2,878 mi',\n",
        " '1 day 18 hours',\n",
        " '1,286 mi',\n",
        " '18 hours 43 mins',\n",
        " '1,742 mi',\n",
        " '1 day 2 hours',\n",
        " '2,871 mi',\n",
        " '1 day 18 hours'\n",
        " ]"
      ],
      "metadata": {
        "id": "qzGzLVH57RUc"
      },
      "execution_count": null,
      "outputs": []
    },
    {
      "cell_type": "markdown",
      "source": [
        "The Google API alternates between distance and trip duration, every other value alternates between distance and time. Python can help us split this list into two lists:"
      ],
      "metadata": {
        "id": "yXgyCF-b8Py0"
      }
    },
    {
      "cell_type": "code",
      "source": [
        "# Parse every other value.\n",
        "my_values = json_extract(r.json(), 'text')\n",
        "\n",
        "durations = my_values[1::2]  # Get every even-index value from a list\n",
        "distances = my_values[2::1]  # Get every odd-index value from a list\n",
        "\n",
        "print('Durations = ', durations)\n",
        "print('Distances = ', distances)"
      ],
      "metadata": {
        "id": "lQnEZTG785gm"
      },
      "execution_count": null,
      "outputs": []
    },
    {
      "cell_type": "code",
      "source": [
        "# Output\n",
        "Durations = [\n",
        "    '3 hours 54 mins',\n",
        "    '1 hour 44 mins',\n",
        "    '1 day 18 hours',\n",
        "    '18 hours 43 mins',\n",
        "    '1 day 2 hours',\n",
        "    '1 day 18 hours'\n",
        "]\n",
        "Distances = [\n",
        "    '94.6 mi',\n",
        "    '1 hour 44 mins',\n",
        "    '2,878 mi',\n",
        "    '1 day 18 hours',\n",
        "    '1,286 mi',\n",
        "    '18 hours 43 mins',\n",
        "    '1,742 mi',\n",
        "    '1 day 2 hours',\n",
        "    '2,871 mi',\n",
        "    '1 day 18 hours'\n",
        "]"
      ],
      "metadata": {
        "id": "Z40NQDAE9BqM"
      },
      "execution_count": null,
      "outputs": []
    },
    {
      "cell_type": "markdown",
      "source": [
        "Getting Creative With Lists"
      ],
      "metadata": {
        "id": "dFHq2Ws-9wzE"
      }
    },
    {
      "cell_type": "code",
      "source": [
        "# Two related lists\n",
        "column_names = ['index', 'first_name', 'last_name', 'join_date']\n",
        "column_datatypes = ['integer', 'string', 'string', 'date']"
      ],
      "metadata": {
        "id": "HqtZfm4k9KDE"
      },
      "execution_count": null,
      "outputs": []
    },
    {
      "cell_type": "code",
      "source": [
        "# Python's zip method!\n",
        "# Zip two lists into a dictionary\n",
        "schema_dict = dict(zip(column_names, column_datatypes))\n",
        "print(schema_dict)"
      ],
      "metadata": {
        "id": "FQuDZeDD90i0"
      },
      "execution_count": null,
      "outputs": []
    },
    {
      "cell_type": "markdown",
      "source": [
        "This output a dictionary where list 1 serves as the keys, and list 2 serves as values:"
      ],
      "metadata": {
        "id": "8ctWVFfw-GFE"
      }
    },
    {
      "cell_type": "code",
      "source": [
        "# Zipped lists resulting in a dictionary\n",
        "\n",
        "{\n",
        "    'index': 'integer',\n",
        "    'first_name': 'string',\n",
        "    'last_name':'string',\n",
        "    'join_date': 'date'\n",
        " }"
      ],
      "metadata": {
        "id": "dEPp8-9O-HEd"
      },
      "execution_count": null,
      "outputs": []
    }
  ]
}